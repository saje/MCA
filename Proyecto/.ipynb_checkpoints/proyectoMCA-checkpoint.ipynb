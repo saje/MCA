{
 "cells": [
  {
   "cell_type": "markdown",
   "metadata": {},
   "source": [
    "<hr style=\"height:2px;border:none\"/>\n",
    "<img src=\"http://sct.inf.utfsm.cl/wp-content/uploads/2020/04/logo_di.png\" style=\"width:60%\">\n",
    "\n",
    "<center>\n",
    "    <h1> INF495 - Modelamiento Computacional Aplicado </h1>\n",
    "    <h1> Project</h1>\n",
    "    <h1> Modeling Fungi</h1>\n",
    "    <h3>Jorge Sanhueza jorge.sanhuezac@sansano.usm.cl</h3>\n",
    "</center>\n",
    "<br>\n",
    "<hr style=\"height:2px;border:none\"/>"
   ]
  },
  {
   "cell_type": "markdown",
   "metadata": {},
   "source": [
    "# Context\n",
    "\n",
    "The project is based on the problem A of The Mathematical Contest in Modeling (MCM) 2021 \n",
    "https://www.mathmodels.org/Problems/2021/MCM-A/2021_MCM_Problem_A.pdf>\n",
    "\n",
    "\n"
   ]
  },
  {
   "cell_type": "markdown",
   "metadata": {},
   "source": [
    "The carbon cycle describes the process of the exchange of carbon throughout the geochemical\n",
    "cycle of the Earth, and is a vital component for life on the planet.\n",
    "Part of the carbon cycle includes the decomposition of compounds, allowing carbon to be renewed and used in other forms.\n",
    "One key\n",
    "component of this part of the process is the decomposition of plant material and woody fibers."
   ]
  },
  {
   "cell_type": "markdown",
   "metadata": {},
   "source": [
    "**Fungi** acts as a key agent in the decomposition of **wooden fibers and ground litter**"
   ]
  },
  {
   "cell_type": "markdown",
   "metadata": {},
   "source": [
    "Different **fungi traits** affect in the **decomposition rate** of this fibers and ground litter."
   ]
  },
  {
   "cell_type": "markdown",
   "metadata": {},
   "source": [
    "For this MCM Problem you should focus on just two traits of a fungus:\n",
    " - The **growth rate** of the fungus\n",
    " - The fungus **tolerance to moisture**.\n",
    " \n",
    "In particular, the slow growing strains of fungi tend to be better able to survive and grow in the presence of environmental changes with respect to moisture and temperature, while the faster growing strains tend to be less robust to the same changes."
   ]
  },
  {
   "cell_type": "markdown",
   "metadata": {},
   "source": [
    "The goal is to model the decomposition of woody fibers in a given patch of land, and do so in the presence of multiple types of fungi breaking down woody fibers in the same area."
   ]
  },
  {
   "cell_type": "markdown",
   "metadata": {},
   "source": [
    "As you explore the relationship of the two traits of interest, growth rate and moisture tolerance,\n",
    "with the rate of decomposition, several questions may arise to include:\n",
    "\n",
    "Using these two traits\n",
    "- How do the different fungi **interact** and decompose ground litter in a fixed patch of land in different environments?\n",
    "- Within these different environments, how will the **decomposition be impacted overtime** as conditions vary?\n",
    "- How do environmental changes and the variation in environmental change impact the **long-term dynamics** with respect to decomposition, as well as competition between fungi in a given environment?\n",
    "\n",
    "The estimation for the decomposition rates, given the growth rate, is shown\n",
    "in Figure 1. The estimation of the decomposition rates, given the relative moisture tolerance, is\n",
    "shown in Figure 2.\n"
   ]
  },
  {
   "cell_type": "markdown",
   "metadata": {},
   "source": [
    "<img src=\"./figures/figures.png\" style=\"width:70%\">"
   ]
  },
  {
   "cell_type": "markdown",
   "metadata": {},
   "source": [
    "# Agent-based Model "
   ]
  },
  {
   "cell_type": "markdown",
   "metadata": {},
   "source": [
    "# Enviroment\n",
    "\n",
    "Patch of land of size $nxm$ that holds Fungi and fibers. The humidity of the patch are separated by sections of different constant humidity.  \n",
    "\n",
    "# Agents\n",
    "\n",
    "Two types of fungi, slow growing strains of fungi (**S-Fungi**) and faster growing strains of fungi (**F-Fungi**).\n",
    "\n",
    "Wood fibers and dead plant material (**Fibers**).\n",
    "\n",
    "## S-Fungi\n",
    "    - Eats fibers\n",
    "    - Withstands high humidity section\n",
    "    - Grows slower than F-Fungi\n",
    "    - When there is no fibers the fungi dies\n",
    "## S-Fungi\n",
    "    - Eats fibers\n",
    "    - Cant Withstand high humidity section\n",
    "    - Grows slower than F-Fungi\n",
    "    - Has an area of decomposition\n",
    "    - When there is no fibers the fungi dies\n",
    "\n"
   ]
  },
  {
   "cell_type": "code",
   "execution_count": null,
   "metadata": {},
   "outputs": [],
   "source": []
  },
  {
   "cell_type": "code",
   "execution_count": null,
   "metadata": {},
   "outputs": [],
   "source": []
  },
  {
   "cell_type": "code",
   "execution_count": null,
   "metadata": {},
   "outputs": [],
   "source": []
  },
  {
   "cell_type": "code",
   "execution_count": null,
   "metadata": {},
   "outputs": [],
   "source": []
  },
  {
   "cell_type": "code",
   "execution_count": null,
   "metadata": {},
   "outputs": [],
   "source": []
  },
  {
   "cell_type": "code",
   "execution_count": null,
   "metadata": {},
   "outputs": [],
   "source": []
  },
  {
   "cell_type": "code",
   "execution_count": null,
   "metadata": {},
   "outputs": [],
   "source": []
  },
  {
   "cell_type": "code",
   "execution_count": null,
   "metadata": {},
   "outputs": [],
   "source": []
  },
  {
   "cell_type": "code",
   "execution_count": null,
   "metadata": {},
   "outputs": [],
   "source": []
  }
 ],
 "metadata": {
  "interpreter": {
   "hash": "ac59ebe37160ed0dfa835113d9b8498d9f09ceb179beaac4002f036b9467c963"
  },
  "kernelspec": {
   "display_name": "Python 3",
   "language": "python",
   "name": "python3"
  },
  "language_info": {
   "codemirror_mode": {
    "name": "ipython",
    "version": 3
   },
   "file_extension": ".py",
   "mimetype": "text/x-python",
   "name": "python",
   "nbconvert_exporter": "python",
   "pygments_lexer": "ipython3",
   "version": "3.9.5"
  }
 },
 "nbformat": 4,
 "nbformat_minor": 4
}
