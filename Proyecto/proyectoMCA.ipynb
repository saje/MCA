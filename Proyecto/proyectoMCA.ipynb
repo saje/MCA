{
 "cells": [
  {
   "cell_type": "markdown",
   "metadata": {},
   "source": [
    "<hr style=\"height:2px;border:none\"/>\n",
    "<img src=\"http://sct.inf.utfsm.cl/wp-content/uploads/2020/04/logo_di.png\" style=\"width:60%\">\n",
    "\n",
    "<center>\n",
    "    <h1> INF495 - Modelamiento Computacional Aplicado </h1>\n",
    "    <h1> Project</h1>\n",
    "    <h1> Modeling Fungi</h1>\n",
    "    <h3>Jorge Sanhueza jorge.sanhuezac@sansano.usm.cl</h3>\n",
    "</center>\n",
    "<br>\n",
    "<br>\n",
    "<hr style=\"height:2px;border:none\"/>\n"
   ]
  },
  {
   "cell_type": "markdown",
   "metadata": {},
   "source": [
    "# Context\n",
    "\n",
    "The project is based on the problem A of The Mathematical Contest in Modeling (MCM) 2021 \n",
    "https://www.mathmodels.org/Problems/2021/MCM-A/2021_MCM_Problem_A.pdf>\n",
    "\n",
    "\n"
   ]
  },
  {
   "cell_type": "markdown",
   "metadata": {},
   "source": [
    "The carbon cycle describes the process of the exchange of carbon throughout the geochemical\n",
    "cycle of the Earth, and is a vital component for life on the planet.\n",
    "Part of the carbon cycle includes the decomposition of compounds, allowing carbon to be renewed and used in other forms.\n",
    "One key\n",
    "component of this part of the process is the decomposition of plant material and woody fibers."
   ]
  },
  {
   "cell_type": "markdown",
   "metadata": {},
   "source": [
    "**Fungi** acts as a key agent in the decomposition of **wooden fibers and ground litter**"
   ]
  },
  {
   "cell_type": "markdown",
   "metadata": {},
   "source": [
    "Different **fungi traits** affect in the **decomposition rate** of this fibers and ground litter."
   ]
  },
  {
   "cell_type": "markdown",
   "metadata": {},
   "source": [
    "For this MCM Problem you should focus on just two traits of a fungus:\n",
    " - The **growth rate** of the fungus\n",
    " - The fungus **tolerance to moisture**.\n",
    " \n",
    "In particular, the slow growing strains of fungi tend to be better able to survive and grow in the presence of environmental changes with respect to moisture and temperature, while the faster growing strains tend to be less robust to the same changes."
   ]
  },
  {
   "cell_type": "markdown",
   "metadata": {},
   "source": [
    "The goal is to model the decomposition of woody fibers in a given patch of land, and do so in the presence of multiple types of fungi breaking down woody fibers in the same area."
   ]
  },
  {
   "cell_type": "markdown",
   "metadata": {},
   "source": [
    "As you explore the relationship of the two traits of interest, growth rate and moisture tolerance,\n",
    "with the rate of decomposition, several questions may arise to include:\n",
    "\n",
    "Using these two traits\n",
    "- How do the different fungi **interact** and decompose ground litter in a fixed patch of land in different environments?\n",
    "- Within these different environments, how will the **decomposition be impacted overtime** as conditions vary?\n",
    "- How do environmental changes and the variation in environmental change impact the **long-term dynamics** with respect to decomposition, as well as competition between fungi in a given environment?\n",
    "\n",
    "The estimation for the decomposition rates, given the growth rate, is shown\n",
    "in Figure 1. The estimation of the decomposition rates, given the relative moisture tolerance, is\n",
    "shown in Figure 2.\n"
   ]
  },
  {
   "cell_type": "markdown",
   "metadata": {},
   "source": [
    "<img src=\"./figures/figures.png\" style=\"width:70%\">"
   ]
  },
  {
   "cell_type": "markdown",
   "metadata": {},
   "source": [
    "# Agent-based Model "
   ]
  },
  {
   "cell_type": "markdown",
   "metadata": {},
   "source": [
    "# Enviroment\n",
    "\n",
    "Patch of land of size nxm that holds Fungi and fibers. The humidity of the patch are separated by sections of different constant humidity.  \n",
    "\n",
    "# Agents\n",
    "\n",
    "Two types of fungi, slow growing strains of fungi (**S-Fungi**) and faster growing strains of fungi (**F-Fungi**).\n",
    "\n",
    "Wood fibers and dead plant material (**Fibers**).\n",
    "\n",
    "## S-Fungi\n",
    "    - Decompose fibers slower\n",
    "    - Withstands high humidity section\n",
    "    - Grows slower than F-Fungi\n",
    "    - When there is no fibers the fungi dies (lenght decreases?)\n",
    "## F-Fungi\n",
    "    - Decompose fibers faster\n",
    "    - Cant Withstand high humidity section\n",
    "    - Grows faster than S-Fungi\n",
    "    - When there is no fibers the fungi dies (lenght decreases?)\n",
    "\n"
   ]
  },
  {
   "cell_type": "code",
   "execution_count": 28,
   "metadata": {},
   "outputs": [],
   "source": [
    "import numpy as np\n",
    "import matplotlib.pyplot as plt\n",
    "from scipy.integrate import solve_ivp   \n",
    "import seaborn as sns \n",
    "from matplotlib.colors import ListedColormap\n",
    "\n",
    "from IPython.display import clear_output"
   ]
  },
  {
   "cell_type": "code",
   "execution_count": 68,
   "metadata": {},
   "outputs": [],
   "source": [
    "SLOWFUNGI=1\n",
    "FASTFUNGI=2\n",
    "WOODFIBER=3\n",
    "class World:\n",
    "    def __init__(self,n,m,n_sfungi,n_ffungi,prob_fiber,prob_sfungi,prob_ffungi,resistance_sfungi,resistance_ffungi,sun_intensity):\n",
    "        \n",
    "        self.n = n\n",
    "        self.m = m\n",
    "        self.prob_fiber = prob_fiber\n",
    "        self.prob_sfungi = prob_sfungi\n",
    "        self.prob_ffungi = prob_ffungi\n",
    "        self.resistance_sfungi= resistance_sfungi\n",
    "        self.resistance_ffungi= resistance_ffungi\n",
    "        self.sun_intensity = sun_intensity \n",
    "\n",
    "        self.land = np.zeros((n,n))\n",
    "\n",
    "        \n",
    "        self.populate_fibers = np.vectorize(self.scalar_populate_fibers)\n",
    "        self.mapping = np.vectorize(self.scalar_mapping)\n",
    "\n",
    "        self.sfungis = []\n",
    "        for sfungi in range(n_sfungi):\n",
    "            x,y = (np.random.randint(n),np.random.randint(n))\n",
    "            while self.land[x,y] != 0:\n",
    "                x,y = (np.random.randint(n),np.random.randint(n))\n",
    "            self.sfungis.append((x,y))\n",
    "            self.land[x,y] = SLOWFUNGI\n",
    "\n",
    "\n",
    "        self.ffungis = []\n",
    "        for ffungi in range(n_ffungi):\n",
    "            x,y = (np.random.randint(n),np.random.randint(n))\n",
    "            while self.land[x,y] != 0:\n",
    "                x,y = (np.random.randint(n),np.random.randint(n))\n",
    "            self.ffungis.append((x,y))\n",
    "            self.land[x,y] = FASTFUNGI\n",
    "\n",
    "        self.fibers()\n",
    "        self.humidity = np.random.rand(n,m)\n",
    "        self.sun = 0\n",
    "\n",
    "\n",
    "\n",
    "\n",
    "    def fibers(self):\n",
    "        self.land = self.populate_fibers(self.land)\n",
    "    def scalar_populate_fibers(self,x):\n",
    "                if x==0 and np.random.choice([True,False],p=[self.prob_fiber,1-self.prob_fiber]) :\n",
    "                    return WOODFIBER\n",
    "                else:\n",
    "                    return x\n",
    "    def scalar_mapping(self,x):\n",
    "        if x==1:\n",
    "            return 's'\n",
    "        elif x==2:\n",
    "            return 'f'\n",
    "        elif x==3:\n",
    "            return 'w'\n",
    "        else:\n",
    "            return ''\n",
    "\n",
    "    def plot_world(self,annotate):\n",
    "        cmapmine = ListedColormap(['w',\"b\",'g',\"brown\"], N=4)\n",
    "        \n",
    "        if annotate:\n",
    "            ax = sns.heatmap(self.land, vmin=0,vmax=3,cmap=cmapmine,annot=self.mapping(self.land),fmt=' ')\n",
    "        else:\n",
    "            ax = sns.heatmap(self.land,cmap=cmapmine, vmin=0,vmax=3,xticklabels=False, yticklabels=False)\n",
    "            ax.tick_params(left=False, bottom=False) \n",
    "        plt.show()\n",
    "        plt.pause(0.01)\n",
    "        clear_output(wait=True)\n",
    "\n",
    "    def grow_helper(self,pos):\n",
    "        i,j = pos\n",
    "        adjacent_indices = []\n",
    "        if i > 0 and self.land[i-1,j]==WOODFIBER :\n",
    "            adjacent_indices.append((i-1,j))\n",
    "\n",
    "        if i+1 < self.m and self.land[i+1,j]==WOODFIBER:\n",
    "            adjacent_indices.append((i+1,j))\n",
    "\n",
    "        if j > 0 and self.land[i,j-1]==WOODFIBER:\n",
    "            adjacent_indices.append((i,j-1))\n",
    "\n",
    "        if j+1 < self.n and self.land[i,j+1]==WOODFIBER:\n",
    "            adjacent_indices.append((i,j+1))\n",
    "        return adjacent_indices\n",
    "    def grow(self):\n",
    "        aux_ffungi = []\n",
    "        for ffungi in self.ffungis:\n",
    "            available = self.grow_helper(ffungi)\n",
    "            if available:\n",
    "                x,y = available[ np.random.choice(len(available))]\n",
    "                if np.random.rand()<self.prob_ffungi:\n",
    "                    self.land[x,y] = FASTFUNGI\n",
    "                    aux_ffungi.append((x,y))\n",
    "        self.ffungis = self.ffungis+aux_ffungi\n",
    "        \n",
    "        aux_sfungi = []\n",
    "        for sfungi in self.sfungis:\n",
    "            available = self.grow_helper(sfungi)\n",
    "            if available:\n",
    "                x,y = available[ np.random.choice(len(available))]\n",
    "                if np.random.rand()<self.prob_sfungi:\n",
    "                    self.land[x,y] = SLOWFUNGI\n",
    "                    aux_sfungi.append((x,y))\n",
    "        self.sfungis = self.sfungis+aux_sfungi\n",
    "\n",
    "    def die(self):\n",
    "        aux_ffungi = []\n",
    "        for ffungi in self.ffungis:\n",
    "            x,y = ffungi\n",
    "            if y == self.sun:\n",
    "                if self.humidity[x,y]-self.sun_intensity > self.resistance_ffungi:\n",
    "                    aux_ffungi.append((x,y))\n",
    "                else:\n",
    "                    self.land[x,y] = 0\n",
    "            else:\n",
    "                if self.humidity[x,y] > self.resistance_ffungi:\n",
    "                    aux_ffungi.append((x,y))\n",
    "                else:\n",
    "                    self.land[x,y] = 0\n",
    "\n",
    "        self.ffungis = aux_ffungi\n",
    "\n",
    "        aux_sfungi = []\n",
    "        for sfungi in self.sfungis:\n",
    "\n",
    "            x,y = sfungi\n",
    "            if y == self.sun:\n",
    "                if self.humidity[x,y]-self.sun_intensity > self.resistance_sfungi:\n",
    "                    aux_sfungi.append((x,y))\n",
    "                else:\n",
    "                    self.land[x,y] = 0\n",
    "            else:\n",
    "                if self.humidity[x,y] > self.resistance_sfungi:\n",
    "                    aux_sfungi.append((x,y))\n",
    "                else:\n",
    "                    self.land[x,y] = 0\n",
    "        self.sfungis = aux_sfungi\n",
    "        self.sun = (self.sun+1)%self.m\n",
    "\n",
    "    def poblations(self):\n",
    "        unique, counts = np.unique(self.land, return_counts=True)\n",
    "        return dict(zip(unique, counts))\n",
    "        \n"
   ]
  },
  {
   "cell_type": "code",
   "execution_count": null,
   "metadata": {},
   "outputs": [],
   "source": [
    "def sim(n=50,m=50,n_sfungi=600,n_ffungi=600,prob_fiber=.3,prob_sfungi=0.3,prob_ffungi=0.4,resistance_sfungi=0.4,resistance_ffungi=0.3,sun_intensity=0.2,timelimit=200):\n",
    "    try:\n",
    "        annotation=False\n",
    "        world = World(n,m,n_sfungi,n_ffungi,prob_fiber,prob_sfungi,prob_ffungi,resistance_sfungi,resistance_ffungi,sun_intensity)\n",
    "        times = []\n",
    "        sfungi_poblation = []\n",
    "        ffungi_poblation = []\n",
    "        woodfiber_poblation = []\n",
    "        t=0\n",
    "        timelimit = timelimit\n",
    "\n",
    "        world.plot_world(annotation)\n",
    "        poblations=world.poblations()\n",
    "        sfungi_poblation.append(poblations[SLOWFUNGI])\n",
    "        ffungi_poblation.append(poblations[FASTFUNGI])\n",
    "        woodfiber_poblation.append(poblations[WOODFIBER])\n",
    "        times.append(t)\n",
    "        while(t<timelimit):\n",
    "            world.grow()\n",
    "            world.fibers()\n",
    "            world.die()\n",
    "            poblations=world.poblations()\n",
    "            sfungi_poblation.append(poblations[SLOWFUNGI])\n",
    "            ffungi_poblation.append(poblations[FASTFUNGI])\n",
    "            woodfiber_poblation.append(poblations[WOODFIBER])\n",
    "            world.plot_world(annotation)\n",
    "\n",
    "            times.append(t)\n",
    "            t+=1\n",
    "        world.plot_world(annotation)\n",
    "        plt.figure(figsize=(10,5))\n",
    "        plt.plot(np.arange(t),sfungi_poblation[:t],label=\"sfungi\")\n",
    "        plt.plot(np.arange(t),ffungi_poblation[:t],label=\"ffungi\")\n",
    "        plt.plot(np.arange(t),woodfiber_poblation[:t],label=\"woodfiber\")\n",
    "        plt.legend()\n",
    "        plt.show()\n",
    "        print(\"Poblaciones Finales\")\n",
    "        poblations=world.poblations()\n",
    "        print(f\"SLOWFUNGI {poblations[SLOWFUNGI]}\")\n",
    "        print(f\"FASTFUNGI {poblations[FASTFUNGI]}\")\n",
    "        print(f\"WOODFIBER {poblations[WOODFIBER]}\")\n",
    "    except KeyboardInterrupt:\n",
    "        print('KeyboardInterrupt')\n",
    "        plt.figure(figsize=(10,5))\n",
    "        plt.plot(np.arange(t),sfungi_poblation[:t],label=\"sfungi\")\n",
    "        plt.plot(np.arange(t),ffungi_poblation[:t],label=\"ffungi\")\n",
    "        plt.plot(np.arange(t),woodfiber_poblation[:t],label=\"woodfiber\")\n",
    "        plt.legend()\n",
    "        plt.show()\n",
    "        print(\"Poblaciones Finales\")\n",
    "        poblations=world.poblations()\n",
    "        print(f\"SLOWFUNGI {poblations[SLOWFUNGI]}\")\n",
    "        print(f\"FASTFUNGI {poblations[FASTFUNGI]}\")\n",
    "        print(f\"WOODFIBER {poblations[WOODFIBER]}\")\n"
   ]
  },
  {
   "cell_type": "markdown",
   "metadata": {},
   "source": [
    "## land= 50x50, n_sfungi=600, n_ffungi=600"
   ]
  },
  {
   "cell_type": "code",
   "execution_count": 71,
   "metadata": {},
   "outputs": [
    {
     "name": "stdout",
     "output_type": "stream",
     "text": [
      "KeyboardInterrupt\n"
     ]
    },
    {
     "data": {
      "image/png": "[encoded data removed]",
      "text/plain": [
       "<Figure size 720x360 with 1 Axes>"
      ]
     },
     "metadata": {
      "needs_background": "light"
     },
     "output_type": "display_data"
    },
    {
     "name": "stdout",
     "output_type": "stream",
     "text": [
      "Poblaciones Finales\n",
      "SLOWFUNGI 507\n",
      "FASTFUNGI 1148\n",
      "WOODFIBER 303\n"
     ]
    }
   ],
   "source": [
    "np.random.seed(201704575)\n",
    "sim(n_sfungi=600, n_ffungi=600)"
   ]
  },
  {
   "cell_type": "markdown",
   "metadata": {},
   "source": [
    "## land= 50x50, n_sfungi=300, n_ffungi=700"
   ]
  },
  {
   "cell_type": "code",
   "execution_count": 73,
   "metadata": {},
   "outputs": [
    {
     "name": "stdout",
     "output_type": "stream",
     "text": [
      "KeyboardInterrupt\n"
     ]
    },
    {
     "data": {
      "image/png": "[encoded data removed]",
      "text/plain": [
       "<Figure size 432x288 with 2 Axes>"
      ]
     },
     "metadata": {
      "needs_background": "light"
     },
     "output_type": "display_data"
    },
    {
     "data": {
      "image/png": "[encoded data removed]",
      "text/plain": [
       "<Figure size 720x360 with 1 Axes>"
      ]
     },
     "metadata": {
      "needs_background": "light"
     },
     "output_type": "display_data"
    },
    {
     "name": "stdout",
     "output_type": "stream",
     "text": [
      "Poblaciones Finales\n",
      "SLOWFUNGI 264\n",
      "FASTFUNGI 1423\n",
      "WOODFIBER 295\n"
     ]
    }
   ],
   "source": [
    "np.random.seed(201704575)\n",
    "sim(n_sfungi=300, n_ffungi=700)"
   ]
  },
  {
   "cell_type": "markdown",
   "metadata": {},
   "source": [
    "## land= 50x50, n_sfungi=700, n_ffungi=300"
   ]
  },
  {
   "cell_type": "code",
   "execution_count": 74,
   "metadata": {},
   "outputs": [
    {
     "name": "stdout",
     "output_type": "stream",
     "text": [
      "KeyboardInterrupt\n"
     ]
    },
    {
     "data": {
      "text/plain": [
       "<Figure size 432x288 with 0 Axes>"
      ]
     },
     "metadata": {},
     "output_type": "display_data"
    },
    {
     "data": {
      "image/png": "[encoded data removed]",
      "text/plain": [
       "<Figure size 720x360 with 1 Axes>"
      ]
     },
     "metadata": {
      "needs_background": "light"
     },
     "output_type": "display_data"
    },
    {
     "name": "stdout",
     "output_type": "stream",
     "text": [
      "Poblaciones Finales\n",
      "SLOWFUNGI 827\n",
      "FASTFUNGI 641\n",
      "WOODFIBER 531\n"
     ]
    }
   ],
   "source": [
    "np.random.seed(201704575)\n",
    "sim(n_sfungi=700, n_ffungi=300)"
   ]
  },
  {
   "cell_type": "code",
   "execution_count": null,
   "metadata": {},
   "outputs": [],
   "source": [
    "\n",
    "def f_competition(t,y,a1,a2,a3,a4,a5,cte,b):\n",
    "    w = y[0]\n",
    "    s = y[1]\n",
    "    f = y[2]\n",
    "    if w>200:\n",
    "        w=200\n",
    "    wp = cte  - a1*w -a2*w\n",
    "    sp = a1*w-b*f -a3*s\n",
    "    fp = a2*w-b*s -a4*f\n",
    "    return np.array([wp,sp,fp])\n",
    "\n",
    "a1 = .5\n",
    "a3 = .1\n",
    "a2 = .2\n",
    "a4 = .2\n",
    "cte = 20\n",
    "b=0.2\n",
    "\n",
    "y0 = np.array([100,20,30])\n",
    "T = 100\n",
    "# time where we want your solution\n",
    "t = np.linspace(0, T, 100)\n",
    "sol = solve_ivp(f_competition,[0,T], y0, t_eval=t, args=(a1,a2,a3,a4,a5,cte,b))\n",
    "\n",
    "w_output = sol.y[0]\n",
    "s_output = sol.y[1]\n",
    "f_output = sol.y[2]\n",
    "plt.figure()\n",
    "plt.plot(t,w_output,label=\"fibers\")\n",
    "plt.plot(t,f_output,label=\"ffungi\")\n",
    "plt.plot(t,s_output,label=\"sfungi\")\n",
    "plt.legend()\n",
    "plt.show()\n"
   ]
  },
  {
   "cell_type": "code",
   "execution_count": null,
   "metadata": {},
   "outputs": [],
   "source": [
    "\n",
    "def f_competition(t,y,a1,a2,a3,a4,a5,cte,b):\n",
    "    w = y[0]\n",
    "    s = y[1]\n",
    "    f = y[2]\n",
    "    wp = cte  - a1*w -a2*w\n",
    "    sp = a1*w-b*f -a3*s\n",
    "    fp = a2*w-b*s -a4*f\n",
    "    # if wp>100:\n",
    "    #     wp=100\n",
    "    # if wp<0:\n",
    "    #     wp=0\n",
    "    # if sp<0:\n",
    "    #     sp=0\n",
    "    # if fp<0:\n",
    "    #     fp=0\n",
    "    return np.array([wp,sp,fp])\n",
    "\n",
    "a1 = .4\n",
    "a3 = .1\n",
    "\n",
    "\n",
    "a2 = .4\n",
    "a4 = .2\n",
    "\n",
    "cte = 20\n",
    "b=0.2\n",
    "\n",
    "y0 = np.array([5,20,30])\n",
    "T = 100\n",
    "# time where we want your solution\n",
    "t = np.linspace(0, T, 100)\n",
    "sol = solve_ivp(f_competition,[0,T], y0, t_eval=t, args=(a1,a2,a3,a4,a5,cte,b))\n",
    "\n",
    "w_output = sol.y[0]\n",
    "s_output = sol.y[1]\n",
    "f_output = sol.y[2]\n",
    "plt.figure()\n",
    "plt.plot(t,w_output,label=\"fibers\")\n",
    "plt.plot(t,f_output,label=\"ffungi\")\n",
    "plt.plot(t,s_output,label=\"sfungi\")\n",
    "plt.legend()\n",
    "plt.show()\n"
   ]
  },
  {
   "cell_type": "code",
   "execution_count": null,
   "metadata": {},
   "outputs": [],
   "source": [
    "def f_competition(t,y,r1,r2,k1,k2,alpha12,alpha21):\n",
    "    n1 = y[0]\n",
    "    n2 = y[1]\n",
    "    n1p=r1*n1*(k1-n1-alpha12*n2)/k1\n",
    "    n2p=r2*n2*(k2-n2-alpha21*n1)/k2\n",
    "\n",
    "    return np.array([n1p,n2p])\n",
    "r1=1.14\n",
    "r2=0.78\n",
    "alpha21=0.33\n",
    "alpha12=0.85\n",
    "k1=44.3\n",
    "k2=35.3\n",
    "\n",
    "y0=np.array([30,30])\n",
    "T = 15\n",
    "# time where we want your solution\n",
    "t = np.linspace(0, T, 100)\n",
    "sol = solve_ivp(f_competition,[0,T], y0, t_eval=t, args=(r1,r2,k1,k2,alpha12,alpha21))\n",
    "\n",
    "n1_output = sol.y[0]\n",
    "n2_output = sol.y[1]\n",
    "\n",
    "plt.figure()\n",
    "plt.plot(t,n1_output,label=\"sfungi\")\n",
    "plt.plot(t,n2_output,label=\"sfungi\")\n",
    "plt.legend()\n",
    "plt.show()\n",
    "n1_output"
   ]
  },
  {
   "cell_type": "code",
   "execution_count": null,
   "metadata": {},
   "outputs": [],
   "source": []
  }
 ],
 "metadata": {
  "interpreter": {
   "hash": "ac59ebe37160ed0dfa835113d9b8498d9f09ceb179beaac4002f036b9467c963"
  },
  "kernelspec": {
   "display_name": "Python 3",
   "language": "python",
   "name": "python3"
  },
  "language_info": {
   "codemirror_mode": {
    "name": "ipython",
    "version": 3
   },
   "file_extension": ".py",
   "mimetype": "text/x-python",
   "name": "python",
   "nbconvert_exporter": "python",
   "pygments_lexer": "ipython3",
   "version": "3.8.10"
  }
 },
 "nbformat": 4,
 "nbformat_minor": 4
}
