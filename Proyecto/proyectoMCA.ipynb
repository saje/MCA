{
 "cells": [
  {
   "cell_type": "markdown",
   "metadata": {},
   "source": [
    "<hr style=\"height:2px;border:none\"/>\n",
    "<img src=\"http://sct.inf.utfsm.cl/wp-content/uploads/2020/04/logo_di.png\" style=\"width:60%\">\n",
    "\n",
    "<center>\n",
    "    <h1> INF495 - Modelamiento Computacional Aplicado </h1>\n",
    "    <h1> Project</h1>\n",
    "    <h1> Modeling Fungi</h1>\n",
    "    <h3>Jorge Sanhueza jorge.sanhuezac@sansano.usm.cl</h3>\n",
    "</center>\n",
    "<br>\n",
    "<hr style=\"height:2px;border:none\"/>"
   ]
  },
  {
   "cell_type": "markdown",
   "metadata": {},
   "source": [
    "# Context\n",
    "\n",
    "The project is based on the problem A of The Mathematical Contest in Modeling (MCM) 2021 \n",
    "https://www.mathmodels.org/Problems/2021/MCM-A/2021_MCM_Problem_A.pdf>\n",
    "\n",
    "\n"
   ]
  },
  {
   "cell_type": "markdown",
   "metadata": {},
   "source": [
    "The carbon cycle describes the process of the exchange of carbon throughout the geochemical\n",
    "cycle of the Earth, and is a vital component for life on the planet.\n",
    "Part of the carbon cycle includes the decomposition of compounds, allowing carbon to be renewed and used in other forms.\n",
    "One key\n",
    "component of this part of the process is the decomposition of plant material and woody fibers."
   ]
  },
  {
   "cell_type": "markdown",
   "metadata": {},
   "source": [
    "**Fungi** acts as a key agent in the decomposition of **wooden fibers and ground litter**"
   ]
  },
  {
   "cell_type": "markdown",
   "metadata": {},
   "source": [
    "Different **fungi traits** affect in the **decomposition rate** of this fibers and ground litter."
   ]
  },
  {
   "cell_type": "markdown",
   "metadata": {},
   "source": [
    "For this MCM Problem you should focus on just two traits of a fungus:\n",
    " - The **growth rate** of the fungus\n",
    " - The fungus **tolerance to moisture**.\n",
    " \n",
    "In particular, the slow growing strains of fungi tend to be better able to survive and grow in the presence of environmental changes with respect to moisture and temperature, while the faster growing strains tend to be less robust to the same changes."
   ]
  },
  {
   "cell_type": "markdown",
   "metadata": {},
   "source": [
    "The goal is to model the decomposition of woody fibers in a given patch of land, and do so in the presence of multiple types of fungi breaking down woody fibers in the same area."
   ]
  },
  {
   "cell_type": "markdown",
   "metadata": {},
   "source": [
    "As you explore the relationship of the two traits of interest, growth rate and moisture tolerance,\n",
    "with the rate of decomposition, several questions may arise to include:\n",
    "\n",
    "Using these two traits\n",
    "- How do the different fungi **interact** and decompose ground litter in a fixed patch of land in different environments?\n",
    "- Within these different environments, how will the **decomposition be impacted overtime** as conditions vary?\n",
    "- How do environmental changes and the variation in environmental change impact the **long-term dynamics** with respect to decomposition, as well as competition between fungi in a given environment?\n",
    "\n",
    "The estimation for the decomposition rates, given the growth rate, is shown\n",
    "in Figure 1. The estimation of the decomposition rates, given the relative moisture tolerance, is\n",
    "shown in Figure 2.\n"
   ]
  },
  {
   "cell_type": "markdown",
   "metadata": {},
   "source": [
    "<img src=\"./figures/figures.png\" style=\"width:70%\">"
   ]
  },
  {
   "cell_type": "markdown",
   "metadata": {},
   "source": [
    "# Agent-based Model "
   ]
  },
  {
   "cell_type": "markdown",
   "metadata": {},
   "source": [
    "# Enviroment\n",
    "\n",
    "Patch of land of size nxm that holds Fungi and fibers. The humidity of the patch are separated by sections of different constant humidity.  \n",
    "\n",
    "# Agents\n",
    "\n",
    "Two types of fungi, slow growing strains of fungi (**S-Fungi**) and faster growing strains of fungi (**F-Fungi**).\n",
    "\n",
    "Wood fibers and dead plant material (**Fibers**).\n",
    "\n",
    "## S-Fungi\n",
    "    - Decompose fibers slower\n",
    "    - Withstands high humidity section\n",
    "    - Grows slower than F-Fungi\n",
    "    - When there is no fibers the fungi dies (lenght decreases?)\n",
    "## F-Fungi\n",
    "    - Decompose fibers faster\n",
    "    - Cant Withstand high humidity section\n",
    "    - Grows faster than S-Fungi\n",
    "    - When there is no fibers the fungi dies (lenght decreases?)\n",
    "\n"
   ]
  },
  {
   "cell_type": "code",
   "execution_count": 22,
   "metadata": {},
   "outputs": [
    {
     "data": {
      "text/plain": [
       "1"
      ]
     },
     "execution_count": 22,
     "metadata": {},
     "output_type": "execute_result"
    }
   ],
   "source": [
    "import numpy as np\n",
    "import matplotlib.pyplot as plt\n",
    "\n",
    "np.random.choice(4)"
   ]
  },
  {
   "cell_type": "code",
   "execution_count": 23,
   "metadata": {},
   "outputs": [
    {
     "data": {
      "text/plain": [
       "array([[0.06307084, 0.75492266, 0.64573687],\n",
       "       [0.54586404, 0.37443838, 0.38347439],\n",
       "       [0.11255872, 0.16801213, 0.49301786]])"
      ]
     },
     "execution_count": 23,
     "metadata": {},
     "output_type": "execute_result"
    }
   ],
   "source": [
    "np.random.rand(3,3)\n"
   ]
  },
  {
   "cell_type": "code",
   "execution_count": 40,
   "metadata": {},
   "outputs": [
    {
     "data": {
      "image/png": "[encoded data removed]",
      "text/plain": [
       "<Figure size 360x360 with 1 Axes>"
      ]
     },
     "metadata": {
      "needs_background": "light"
     },
     "output_type": "display_data"
    },
    {
     "name": "stdout",
     "output_type": "stream",
     "text": [
      "1000\n",
      "[[2. 2. 3. 3. 3. 3. 3. 3. 3. 3.]\n",
      " [2. 3. 3. 3. 3. 3. 1. 3. 3. 3.]\n",
      " [3. 3. 3. 3. 3. 1. 1. 1. 3. 3.]\n",
      " [3. 3. 3. 3. 3. 3. 1. 3. 3. 3.]\n",
      " [3. 2. 3. 3. 3. 3. 1. 3. 1. 3.]\n",
      " [2. 2. 2. 1. 3. 1. 1. 1. 1. 1.]\n",
      " [2. 2. 2. 1. 1. 3. 1. 2. 2. 2.]\n",
      " [3. 2. 1. 1. 1. 3. 3. 3. 2. 3.]\n",
      " [3. 3. 2. 2. 2. 3. 3. 3. 3. 3.]\n",
      " [3. 3. 3. 2. 3. 3. 3. 3. 3. 3.]]\n"
     ]
    },
    {
     "data": {
      "text/plain": [
       "<matplotlib.image.AxesImage at 0x1b18a0f4eb0>"
      ]
     },
     "execution_count": 40,
     "metadata": {},
     "output_type": "execute_result"
    },
    {
     "data": {
      "image/png": "[encoded data removed]",
      "text/plain": [
       "<Figure size 360x360 with 1 Axes>"
      ]
     },
     "metadata": {
      "needs_background": "light"
     },
     "output_type": "display_data"
    }
   ],
   "source": [
    "np.random.seed(31415)\n",
    "class World:\n",
    "    def __init__(self,n,m,n_sfungi,n_ffungi,prob_fiber,prob_sfungi,prob_ffungi):\n",
    "        self.SLOWFUNGI=1\n",
    "        self.FASTFUNGI=2\n",
    "        self.WOODFIBER=3\n",
    "        self.n = n\n",
    "        self.m = m\n",
    "        self.prob_fiber = prob_fiber\n",
    "        self.prob_sfungi = prob_sfungi\n",
    "        self.prob_ffungi = prob_ffungi\n",
    "\n",
    "        self.land = np.zeros((n,n))\n",
    "\n",
    "        \n",
    "        self.populate_fibers = np.vectorize(self.scalar_populate_fibers)\n",
    "\n",
    "        self.sfungis = []\n",
    "        for sfungi in range(n_sfungi):\n",
    "            x,y = (np.random.randint(n),np.random.randint(n))\n",
    "            while self.land[x,y] != 0:\n",
    "                x,y = (np.random.randint(n),np.random.randint(n))\n",
    "            self.sfungis.append((x,y))\n",
    "            self.land[x,y] = self.SLOWFUNGI\n",
    "\n",
    "\n",
    "        self.ffungis = []\n",
    "        for ffungi in range(n_ffungi):\n",
    "            x,y = (np.random.randint(n),np.random.randint(n))\n",
    "            while self.land[x,y] != 0:\n",
    "                x,y = (np.random.randint(n),np.random.randint(n))\n",
    "            self.ffungis.append((x,y))\n",
    "            self.land[x,y] = self.FASTFUNGI\n",
    "\n",
    "        self.fibers()\n",
    "        self.humedad = np.random.rand(n,m)\n",
    "        self.sun = 0\n",
    "\n",
    "\n",
    "\n",
    "\n",
    "    def fibers(self):\n",
    "        self.land = self.populate_fibers(self.land)\n",
    "    def scalar_populate_fibers(self,x):\n",
    "                if x==0 and np.random.choice([True,False],p=[self.prob_fiber,1-self.prob_fiber]) :\n",
    "                    return self.WOODFIBER\n",
    "                else:\n",
    "                    return x\n",
    "    def plot_world(self,annotate=False):\n",
    "        fig, ax = plt.subplots(figsize=(5,5))\n",
    "        ax.imshow(self.land,)#cmap=\"Greens\")\n",
    "        ax.set_xticks(range(self.m))\n",
    "        ax.set_yticks(range(self.n))\n",
    "        if annotate:\n",
    "            for i in range(self.n):\n",
    "                for j in range(self.m):\n",
    "                    if self.land[i, j] == self.SLOWFUNGI:\n",
    "                        text = ax.text(j, i, \"s\", ha=\"center\", va=\"center\", color=\"w\")\n",
    "                    elif self.land[i, j] == self.FASTFUNGI:\n",
    "                        text = ax.text(j, i, \"f\", ha=\"center\", va=\"center\", color=\"w\")\n",
    "                    else:\n",
    "                        text = ax.text(j, i, \"w\", ha=\"center\", va=\"center\", color=\"w\")\n",
    "        plt.show()\n",
    "\n",
    "    def step_helper(self,pos):\n",
    "        i,j = pos\n",
    "        adjacent_indices = []\n",
    "        if i > 0 and self.land[i-1,j]==3 :\n",
    "            adjacent_indices.append((i-1,j))\n",
    "\n",
    "        if i+1 < self.m and self.land[i+1,j]==3:\n",
    "            adjacent_indices.append((i+1,j))\n",
    "\n",
    "        if j > 0 and self.land[i,j-1]==3:\n",
    "            adjacent_indices.append((i,j-1))\n",
    "\n",
    "        if j+1 < self.n and self.land[i,j+1]==3:\n",
    "            adjacent_indices.append((i,j+1))\n",
    "        return adjacent_indices\n",
    "    def step(self):\n",
    "        for ffungi in self.ffungis:\n",
    "            available = self.step_helper(ffungi)\n",
    "            if available:\n",
    "                x,y = available[ np.random.choice(len(available))]\n",
    "                if np.random.rand()<self.prob_ffungi:\n",
    "                    self.land[x,y] = self.FASTFUNGI\n",
    "\n",
    "        for sfungi in self.sfungis:\n",
    "            available = self.step_helper(sfungi)\n",
    "            if available:\n",
    "                x,y = available[ np.random.choice(len(available))]\n",
    "                if np.random.rand()<self.prob_sfungi:\n",
    "                    self.land[x,y] = self.SLOWFUNGI\n",
    "\n",
    "\n",
    "world = World(n=10,m=10,n_sfungi=5,n_ffungi=5,prob_fiber=.3,prob_sfungi=0.3,prob_ffungi=0.4)\n",
    "t=0\n",
    "timelimit = 1000\n",
    "world.plot_world(True)\n",
    "while(t<timelimit):\n",
    "    #print(t)\n",
    "    #print(world.land)\n",
    "    #world.plot_world(True)\n",
    "    world.step()\n",
    "    world.fibers()\n",
    "    t+=1\n",
    "print(t)\n",
    "print(world.land)\n",
    "fig, ax = plt.subplots(figsize=(5,5))\n",
    "ax.imshow(world.land)\n",
    "\n"
   ]
  }
 ],
 "metadata": {
  "interpreter": {
   "hash": "ac59ebe37160ed0dfa835113d9b8498d9f09ceb179beaac4002f036b9467c963"
  },
  "kernelspec": {
   "display_name": "Python 3",
   "language": "python",
   "name": "python3"
  },
  "language_info": {
   "codemirror_mode": {
    "name": "ipython",
    "version": 3
   },
   "file_extension": ".py",
   "mimetype": "text/x-python",
   "name": "python",
   "nbconvert_exporter": "python",
   "pygments_lexer": "ipython3",
   "version": "3.9.5"
  }
 },
 "nbformat": 4,
 "nbformat_minor": 4
}
