{
 "cells": [
  {
   "cell_type": "markdown",
   "metadata": {},
   "source": [
    "<hr style=\"height:2px;border:none\"/>\n",
    "<img src=\"http://sct.inf.utfsm.cl/wp-content/uploads/2020/04/logo_di.png\" style=\"width:60%\">\n",
    "\n",
    "<center>\n",
    "    <h1> INF495 - Modelamiento Computacional Aplicado </h1>\n",
    "    <h1> Game of Life</h1>\n",
    "    <h1> Modeling cells</h1>\n",
    "    <h3>Jorge Sanhueza jorge.sanhuezac@sansano.usm.cl</h3>\n",
    "</center>\n",
    "<br>\n",
    "<hr style=\"height:2px;border:none\"/>"
   ]
  },
  {
   "cell_type": "markdown",
   "metadata": {},
   "source": [
    "## Rules\n",
    "\n",
    "A live cell with less than two living neighbors dies\n",
    "\n",
    "A live cell that has two or three living neighbors remains alive \n",
    "\n",
    "A live cell with four or more live neighbors dies\n",
    "\n",
    "A died cell with three live neighbors became alive"
   ]
  },
  {
   "cell_type": "code",
   "execution_count": 1,
   "metadata": {},
   "outputs": [],
   "source": [
    "\n",
    "import numpy as np\n",
    "import matplotlib.pyplot as plt\n",
    "from matplotlib.colors import ListedColormap\n",
    "import seaborn as sns\n",
    "from ipywidgets import interact, interactive, fixed, interact_manual,interactive_output,IntSlider\n",
    "import ipywidgets as widgets\n",
    "from IPython.display import display,clear_output"
   ]
  },
  {
   "cell_type": "code",
   "execution_count": 2,
   "metadata": {},
   "outputs": [],
   "source": [
    "#Constants\n",
    "DEAD = 0\n",
    "ALIVE = 1\n",
    "#Auxiliary functions\n",
    "def adj_finder(matrix, position): #https://stackoverflow.com/questions/51657128/how-to-access-the-adjacent-cells-of-each-elements-of-matrix-in-python\n",
    "    adj = []\n",
    "    \n",
    "    for dx in range(-1, 2):\n",
    "        for dy in range(-1, 2):\n",
    "            rangeX = range(0, matrix.shape[0])  # X bounds\n",
    "            rangeY = range(0, matrix.shape[1])  # Y bounds\n",
    "            \n",
    "            (newX, newY) = (position[0]+dx, position[1]+dy)  # adjacent cell\n",
    "            \n",
    "            if (newX in rangeX) and (newY in rangeY) and (dx, dy) != (0, 0):\n",
    "                adj.append((newX, newY))\n",
    "    \n",
    "    return adj\n",
    "\n",
    "def neighbors(grid,pos):\n",
    "    adj= adj_finder(grid,pos)\n",
    "    #print(adj)\n",
    "    N=0\n",
    "    for cell in adj:\n",
    "        if grid[cell] == ALIVE:\n",
    "            N+=1\n",
    "    return N\n",
    "\n",
    "def plot_grid(grid):\n",
    "    plt.figure(figsize=(8,8))\n",
    "    cmapmine = ListedColormap(['w', 'b'], N=2)\n",
    "    plt.imshow(grid, cmap=cmapmine, vmin=0, vmax=1)\n",
    "    plt.show()\n",
    "    #plt.pause(0.01)\n",
    "    clear_output(wait=True)\n",
    "\n",
    "def update(grid,n_alive_cells):\n",
    "    prev_grid = grid.copy()\n",
    "    next_grid = grid\n",
    "    for x in range(grid.shape[0]):\n",
    "        for y in range(grid.shape[1]):\n",
    "            N = neighbors(prev_grid,(x,y))\n",
    "            #print(x,y,N)\n",
    "            if prev_grid[x,y]==ALIVE:\n",
    "                if N<2 or N>=4:\n",
    "                   next_grid[x,y] = DEAD\n",
    "                   n_alive_cells-=1\n",
    "            elif prev_grid[x,y] == DEAD:\n",
    "                if N==3:\n",
    "                    next_grid[x,y] = ALIVE\n",
    "                    n_alive_cells+=1\n",
    "\n",
    "    return next_grid,n_alive_cells\n",
    "\n"
   ]
  },
  {
   "cell_type": "code",
   "execution_count": 12,
   "metadata": {},
   "outputs": [],
   "source": [
    "\n",
    "def game_of_life(n=30,m=30,n_cells=100,timelimit=100):\n",
    "    try:\n",
    "        #Parameters\n",
    "        initial_alive_cells = n_cells\n",
    "\n",
    "        #Program\n",
    "        grid = np.zeros((n,m))\n",
    "        n_alive_cells = n_cells\n",
    "        n_alive= np.zeros(timelimit+1)\n",
    "        if n_cells> n*m:\n",
    "            return \"mas celulas que tamaño\"\n",
    "        for cell in range(n_cells):\n",
    "            x,y = (np.random.randint(n),np.random.randint(n))\n",
    "            while grid[x,y] != 0: \n",
    "                x,y = (np.random.randint(n),np.random.randint(n))\n",
    "            grid[x,y] = ALIVE\n",
    "\n",
    "\n",
    "        t=0\n",
    "        plot_grid(grid)\n",
    "\n",
    "        n_alive[t]=n_alive_cells\n",
    "        while(t<timelimit):\n",
    "            t+=1\n",
    "            grid,n_alive_cells=update(grid,n_alive_cells)\n",
    "            plot_grid(grid)\n",
    "            n_alive[t]=n_alive_cells\n",
    "\n",
    "        plt.plot(np.arange(len(n_alive)),n_alive)\n",
    "    except KeyboardInterrupt:\n",
    "        print('KeyboardInterrupt')\n",
    "        plt.plot(np.arange(len(n_alive[:t])),n_alive[:t])\n",
    "    \n",
    "    \n"
   ]
  },
  {
   "cell_type": "code",
   "execution_count": 13,
   "metadata": {},
   "outputs": [
    {
     "name": "stdout",
     "output_type": "stream",
     "text": [
      "KeyboardInterrupt\n"
     ]
    },
    {
     "data": {
      "image/png": "[encoded data removed]",
      "text/plain": [
       "<Figure size 576x576 with 1 Axes>"
      ]
     },
     "metadata": {
      "needs_background": "light"
     },
     "output_type": "display_data"
    }
   ],
   "source": [
    "n=100\n",
    "m=100\n",
    "n_cells=3000\n",
    "timelimit=500\n",
    "n_alive = game_of_life(n=n,m=m,n_cells=n_cells,timelimit=timelimit)"
   ]
  },
  {
   "cell_type": "code",
   "execution_count": null,
   "metadata": {},
   "outputs": [],
   "source": []
  }
 ],
 "metadata": {
  "interpreter": {
   "hash": "ac59ebe37160ed0dfa835113d9b8498d9f09ceb179beaac4002f036b9467c963"
  },
  "kernelspec": {
   "display_name": "Python 3",
   "language": "python",
   "name": "python3"
  },
  "language_info": {
   "codemirror_mode": {
    "name": "ipython",
    "version": 3
   },
   "file_extension": ".py",
   "mimetype": "text/x-python",
   "name": "python",
   "nbconvert_exporter": "python",
   "pygments_lexer": "ipython3",
   "version": "3.9.5"
  }
 },
 "nbformat": 4,
 "nbformat_minor": 4
}
